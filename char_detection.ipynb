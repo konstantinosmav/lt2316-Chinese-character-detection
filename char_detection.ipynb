{
 "cells": [
  {
   "cell_type": "code",
   "execution_count": null,
   "id": "7aac0467",
   "metadata": {},
   "outputs": [],
   "source": [
    "import json"
   ]
  },
  {
   "cell_type": "code",
   "execution_count": 10,
   "id": "7513f290",
   "metadata": {},
   "outputs": [],
   "source": [
    "def load_info(file_path):    \n",
    "    with open(file_path) as json_file:\n",
    "        data = json.load(json_file)\n",
    "    list_of_train_data = [image['image_id']+'.jpg' for image in data['train']]    \n",
    "    return list_of_train_data\n",
    "\n",
    "loaded_image_ids = load_info('/scratch/lt2326-h21/a1/info.json')"
   ]
  }
 ],
 "metadata": {
  "kernelspec": {
   "display_name": "Python 3",
   "language": "python",
   "name": "python3"
  },
  "language_info": {
   "codemirror_mode": {
    "name": "ipython",
    "version": 3
   },
   "file_extension": ".py",
   "mimetype": "text/x-python",
   "name": "python",
   "nbconvert_exporter": "python",
   "pygments_lexer": "ipython3",
   "version": "3.9.6"
  }
 },
 "nbformat": 4,
 "nbformat_minor": 5
}
